{
 "cells": [
  {
   "cell_type": "markdown",
   "metadata": {},
   "source": [
    "## 20190409"
   ]
  },
  {
   "cell_type": "code",
   "execution_count": 4,
   "metadata": {},
   "outputs": [],
   "source": [
    "a = 'ACTATGATAAGTCCG'"
   ]
  },
  {
   "cell_type": "code",
   "execution_count": 6,
   "metadata": {},
   "outputs": [
    {
     "data": {
      "text/plain": [
       "str"
      ]
     },
     "execution_count": 6,
     "metadata": {},
     "output_type": "execute_result"
    }
   ],
   "source": [
    "type(a)"
   ]
  },
  {
   "cell_type": "code",
   "execution_count": 8,
   "metadata": {},
   "outputs": [
    {
     "data": {
      "text/plain": [
       "0.4"
      ]
     },
     "execution_count": 8,
     "metadata": {},
     "output_type": "execute_result"
    }
   ],
   "source": [
    "(a.count('C')+a.count('G'))/len(a) #GC count"
   ]
  },
  {
   "cell_type": "code",
   "execution_count": 9,
   "metadata": {},
   "outputs": [
    {
     "name": "stdout",
     "output_type": "stream",
     "text": [
      "A\n",
      "C\n",
      "T\n",
      "A\n",
      "T\n",
      "G\n",
      "A\n",
      "T\n",
      "A\n",
      "A\n",
      "G\n",
      "T\n",
      "C\n",
      "C\n",
      "G\n"
     ]
    }
   ],
   "source": [
    "for _ in a:\n",
    "    print(_)"
   ]
  },
  {
   "cell_type": "code",
   "execution_count": 10,
   "metadata": {},
   "outputs": [
    {
     "data": {
      "text/plain": [
       "'A'"
      ]
     },
     "execution_count": 10,
     "metadata": {},
     "output_type": "execute_result"
    }
   ],
   "source": [
    "a[0] #string 跟list 一樣可以 依序列"
   ]
  },
  {
   "cell_type": "code",
   "execution_count": 11,
   "metadata": {},
   "outputs": [
    {
     "name": "stdout",
     "output_type": "stream",
     "text": [
      "elif\n"
     ]
    }
   ],
   "source": [
    "if False:\n",
    "    print('true')\n",
    "elif True:\n",
    "    print('elif')"
   ]
  },
  {
   "cell_type": "code",
   "execution_count": 13,
   "metadata": {},
   "outputs": [],
   "source": [
    "import os"
   ]
  },
  {
   "cell_type": "code",
   "execution_count": 25,
   "metadata": {},
   "outputs": [
    {
     "name": "stdout",
     "output_type": "stream",
     "text": [
      "<built-in method count of str object at 0x0000028D081809F0> Proton_A_845_20181220_IonXpress_037.amplicon.cov.xls 52\n",
      "<built-in method count of str object at 0x0000028D08180A58> Proton_A_845_20181220_IonXpress_037.base.cov.xls 48\n",
      "<built-in method count of str object at 0x0000028D08180C60> Proton_A_845_20181220_IonXpress_038.amplicon.cov.xls 52\n",
      "<built-in method count of str object at 0x0000028D08180100> Proton_A_845_20181220_IonXpress_038.base.cov.xls 48\n",
      "<built-in method count of str object at 0x0000028D08180578> Proton_A_845_20181220_IonXpress_039.amplicon.cov.xls 52\n",
      "<built-in method count of str object at 0x0000028D08180030> Proton_A_845_20181220_IonXpress_039.base.cov.xls 48\n",
      "<built-in method count of str object at 0x0000028D08180AC0> Proton_A_845_20181220_IonXpress_040.amplicon.cov.xls 52\n",
      "<built-in method count of str object at 0x0000028D08180D30> Proton_A_845_20181220_IonXpress_040.base.cov.xls 48\n",
      "<built-in method count of str object at 0x0000028D081DF510> Proton_A_878_20190305_IonXpress_071.amplicon.cov.xls 52\n",
      "<built-in method count of str object at 0x0000028D081DF578> Proton_A_878_20190305_IonXpress_071.base.cov.xls 48\n",
      "<built-in method count of str object at 0x0000028D081DF648> Proton_A_878_20190305_IonXpress_072.amplicon.cov.xls 52\n",
      "<built-in method count of str object at 0x0000028D081DF6B0> Proton_A_878_20190305_IonXpress_072.base.cov.xls 48\n",
      "<built-in method count of str object at 0x0000028D081DF780> Proton_A_878_20190305_IonXpress_073.amplicon.cov.xls 52\n",
      "<built-in method count of str object at 0x0000028D081DF7E8> Proton_A_878_20190305_IonXpress_073.base.cov.xls 48\n",
      "<built-in method count of str object at 0x0000028D081DF8B8> Proton_A_878_20190305_IonXpress_074.amplicon.cov.xls 52\n",
      "<built-in method count of str object at 0x0000028D081DF920> Proton_A_878_20190305_IonXpress_074.base.cov.xls 48\n",
      "<built-in method count of str object at 0x0000028D081DF9F0> Proton_A_878_20190305_IonXpress_075.amplicon.cov.xls 52\n",
      "<built-in method count of str object at 0x0000028D081DFA58> Proton_A_878_20190305_IonXpress_075.base.cov.xls 48\n",
      "<built-in method count of str object at 0x0000028D081DFB28> Proton_A_878_20190305_IonXpress_076.amplicon.cov.xls 52\n",
      "<built-in method count of str object at 0x0000028D081DFB90> Proton_A_878_20190305_IonXpress_076.base.cov.xls 48\n",
      "<built-in method count of str object at 0x0000028D081DFC60> Proton_A_878_20190305_IonXpress_077.amplicon.cov.xls 52\n",
      "<built-in method count of str object at 0x0000028D081DFCC8> Proton_A_878_20190305_IonXpress_077.base.cov.xls 48\n",
      "<built-in method count of str object at 0x0000028D081DFD98> Proton_A_890_20190328_IonXpress_062.amplicon.cov.xls 52\n",
      "<built-in method count of str object at 0x0000028D081DFE00> Proton_A_890_20190328_IonXpress_062.base.cov.xls 48\n",
      "<built-in method count of str object at 0x0000028D081DFED0> Proton_A_890_20190328_IonXpress_063.amplicon.cov.xls 52\n",
      "<built-in method count of str object at 0x0000028D081DFF38> Proton_A_890_20190328_IonXpress_063.base.cov.xls 48\n",
      "<built-in method count of str object at 0x0000028D081DE098> Proton_A_890_20190328_IonXpress_065.amplicon.cov.xls 52\n",
      "<built-in method count of str object at 0x0000028D081DE100> Proton_A_890_20190328_IonXpress_065.base.cov.xls 48\n",
      "<built-in method count of str object at 0x0000028D081DE1D0> Proton_A_890_20190328_IonXpress_066.amplicon.cov.xls 52\n",
      "<built-in method count of str object at 0x0000028D081DE238> Proton_A_890_20190328_IonXpress_066.base.cov.xls 48\n"
     ]
    }
   ],
   "source": [
    "for _ in os.listdir(r'C:\\Users\\yijiun0407\\Downloads\\python101_demo_data\\python101_demo_data\\data_wo_sudir'):\n",
    "    if _.endswith('.xls'):\n",
    "      \n",
    "        a=len(_)\n",
    "        print(_.count,_,a)"
   ]
  },
  {
   "cell_type": "code",
   "execution_count": 44,
   "metadata": {},
   "outputs": [
    {
     "name": "stdout",
     "output_type": "stream",
     "text": [
      "30 19 15\n"
     ]
    }
   ],
   "source": [
    "len(xls)       "
   ]
  },
  {
   "cell_type": "code",
   "execution_count": 54,
   "metadata": {},
   "outputs": [],
   "source": [
    "file = os.listdir(r'C:\\Users\\yijiun0407\\Downloads\\python101_demo_data\\python101_demo_data\\data_wo_sudir')#當下那一層目錄 vs. os.walk走訪子目錄"
   ]
  },
  {
   "cell_type": "code",
   "execution_count": 56,
   "metadata": {},
   "outputs": [],
   "source": [
    "xls = [(_,len(_)-4) for _ in file if _.endswith('.xls')]\n",
    "vcf = [(_,len(_)-4) for _ in file if _.endswith('.vcf')]\n",
    "txt = [(_,len(_)-4) for _ in file if _.endswith('.txt')]"
   ]
  },
  {
   "cell_type": "code",
   "execution_count": 59,
   "metadata": {},
   "outputs": [
    {
     "name": "stdout",
     "output_type": "stream",
     "text": [
      "xls: 30\n"
     ]
    }
   ],
   "source": [
    "print('xls:',len(xls))"
   ]
  },
  {
   "cell_type": "code",
   "execution_count": 63,
   "metadata": {},
   "outputs": [
    {
     "name": "stdout",
     "output_type": "stream",
     "text": [
      "sfsdf\n",
      "sdfsdf\n"
     ]
    }
   ],
   "source": [
    "print('sfsdf\\nsdfsdf')#\\n 在字串中是換行的意思"
   ]
  },
  {
   "cell_type": "code",
   "execution_count": 115,
   "metadata": {},
   "outputs": [
    {
     "name": "stdout",
     "output_type": "stream",
     "text": [
      "xls: 30 \n",
      "vcf: 19\n"
     ]
    }
   ],
   "source": [
    "print('xls:', len(xls),'\\nvcf:',len(vcf))"
   ]
  },
  {
   "cell_type": "markdown",
   "metadata": {},
   "source": [
    "## os.walk"
   ]
  },
  {
   "cell_type": "code",
   "execution_count": 74,
   "metadata": {},
   "outputs": [
    {
     "data": {
      "text/plain": [
       "<function os.walk(top, topdown=True, onerror=None, followlinks=False)>"
      ]
     },
     "execution_count": 74,
     "metadata": {},
     "output_type": "execute_result"
    }
   ],
   "source": [
    "os.walk #子資料夾都跑一遍"
   ]
  },
  {
   "cell_type": "code",
   "execution_count": 109,
   "metadata": {},
   "outputs": [],
   "source": [
    "way =r'C:\\Users\\yijiun0407\\Downloads\\python101_demo_data\\python101_demo_data\\data_with_sudir'"
   ]
  },
  {
   "cell_type": "code",
   "execution_count": 110,
   "metadata": {},
   "outputs": [],
   "source": [
    "import pandas as pd"
   ]
  },
  {
   "cell_type": "code",
   "execution_count": null,
   "metadata": {},
   "outputs": [],
   "source": [
    "C:\\Users\\yijiun0407\\Downloads\\python101_demo_data\\python101_demo_data\\data_with_subdir"
   ]
  },
  {
   "cell_type": "code",
   "execution_count": 127,
   "metadata": {},
   "outputs": [
    {
     "name": "stdout",
     "output_type": "stream",
     "text": [
      "48 Proton_A_816_20181115_IonXpress_007.amplicon.cov.xls\n",
      "44 Proton_A_816_20181115_IonXpress_007.base.cov.xls\n",
      "45 Proton_A_816_20181115_IonXpress_007.stats.cov.txt\n",
      "48 Proton_A_816_20181115_IonXpress_009.amplicon.cov.xls\n",
      "44 Proton_A_816_20181115_IonXpress_009.base.cov.xls\n",
      "45 Proton_A_816_20181115_IonXpress_009.stats.cov.txt\n",
      "48 Proton_A_816_20181115_IonXpress_010.amplicon.cov.xls\n",
      "44 Proton_A_816_20181115_IonXpress_010.base.cov.xls\n",
      "45 Proton_A_816_20181115_IonXpress_010.stats.cov.txt\n",
      "48 Proton_A_816_20181115_IonXpress_011.amplicon.cov.xls\n",
      "44 Proton_A_816_20181115_IonXpress_011.base.cov.xls\n",
      "45 Proton_A_816_20181115_IonXpress_011.stats.cov.txt\n",
      "48 Proton_A_816_20181115_IonXpress_012.amplicon.cov.xls\n",
      "44 Proton_A_816_20181115_IonXpress_012.base.cov.xls\n",
      "45 Proton_A_816_20181115_IonXpress_012.stats.cov.txt\n",
      "48 Proton_A_816_20181115_IonXpress_013.amplicon.cov.xls\n",
      "44 Proton_A_816_20181115_IonXpress_013.base.cov.xls\n",
      "45 Proton_A_816_20181115_IonXpress_013.stats.cov.txt\n",
      "48 Proton_A_816_20181115_IonXpress_014.amplicon.cov.xls\n",
      "44 Proton_A_816_20181115_IonXpress_014.base.cov.xls\n",
      "45 Proton_A_816_20181115_IonXpress_014.stats.cov.txt\n",
      "48 Proton_A_816_20181115_IonXpress_036.amplicon.cov.xls\n",
      "44 Proton_A_816_20181115_IonXpress_036.base.cov.xls\n",
      "45 Proton_A_816_20181115_IonXpress_036.stats.cov.txt\n",
      "48 Proton_A_816_20181115_IonXpress_037.amplicon.cov.xls\n",
      "44 Proton_A_816_20181115_IonXpress_037.base.cov.xls\n",
      "45 Proton_A_816_20181115_IonXpress_037.stats.cov.txt\n",
      "48 Proton_A_858_20181228_IonXpress_080.amplicon.cov.xls\n",
      "44 Proton_A_858_20181228_IonXpress_080.base.cov.xls\n",
      "45 Proton_A_858_20181228_IonXpress_080.stats.cov.txt\n",
      "48 Proton_A_858_20181228_IonXpress_081.amplicon.cov.xls\n",
      "44 Proton_A_858_20181228_IonXpress_081.base.cov.xls\n",
      "45 Proton_A_858_20181228_IonXpress_081.stats.cov.txt\n",
      "48 Proton_A_858_20181228_IonXpress_082.amplicon.cov.xls\n",
      "44 Proton_A_858_20181228_IonXpress_082.base.cov.xls\n",
      "45 Proton_A_858_20181228_IonXpress_082.stats.cov.txt\n",
      "48 Proton_A_858_20181228_IonXpress_083.amplicon.cov.xls\n",
      "44 Proton_A_858_20181228_IonXpress_083.base.cov.xls\n",
      "45 Proton_A_858_20181228_IonXpress_083.stats.cov.txt\n",
      "48 Proton_A_884_20190315_IonXpress_074.amplicon.cov.xls\n",
      "44 Proton_A_884_20190315_IonXpress_074.base.cov.xls\n",
      "45 Proton_A_884_20190315_IonXpress_074.stats.cov.txt\n",
      "48 Proton_A_884_20190315_IonXpress_075.amplicon.cov.xls\n",
      "44 Proton_A_884_20190315_IonXpress_075.base.cov.xls\n",
      "45 Proton_A_884_20190315_IonXpress_075.stats.cov.txt\n",
      "48 Proton_A_884_20190315_IonXpress_076.amplicon.cov.xls\n",
      "44 Proton_A_884_20190315_IonXpress_076.base.cov.xls\n",
      "45 Proton_A_884_20190315_IonXpress_076.stats.cov.txt\n",
      "49 Proton_A_870_20190131_IonXpress_007_TSVC_variants.vcf\n",
      "49 Proton_A_870_20190131_IonXpress_028_TSVC_variants.vcf\n",
      "49 Proton_A_870_20190131_IonXpress_029_TSVC_variants.vcf\n",
      "49 Proton_A_870_20190131_IonXpress_032_TSVC_variants.vcf\n",
      "49 Proton_A_870_20190131_IonXpress_033_TSVC_variants.vcf\n",
      "49 Proton_A_870_20190131_IonXpress_034_TSVC_variants.vcf\n",
      "49 Proton_A_870_20190131_IonXpress_035_TSVC_variants.vcf\n",
      "49 Proton_A_870_20190131_IonXpress_036_TSVC_variants.vcf\n",
      "49 Proton_A_870_20190131_IonXpress_037_TSVC_variants.vcf\n",
      "49 Proton_A_870_20190131_IonXpress_038_TSVC_variants.vcf\n",
      "49 Proton_A_870_20190131_IonXpress_040_TSVC_variants.vcf\n",
      "49 Proton_A_879_20190307_IonXpress_003_TSVC_variants.vcf\n",
      "49 Proton_A_879_20190307_IonXpress_004_TSVC_variants.vcf\n",
      "49 Proton_A_879_20190307_IonXpress_005_TSVC_variants.vcf\n",
      "49 Proton_A_879_20190307_IonXpress_008_TSVC_variants.vcf\n",
      "49 Proton_A_879_20190307_IonXpress_009_TSVC_variants.vcf\n",
      "49 Proton_A_879_20190307_IonXpress_010_TSVC_variants.vcf\n",
      "49 Proton_A_879_20190307_IonXpress_081_TSVC_variants.vcf\n",
      "49 Proton_A_879_20190307_IonXpress_093_TSVC_variants.vcf\n",
      "49 Proton_A_879_20190307_IonXpress_096_TSVC_variants.vcf\n",
      "49 Proton_A_894_20190403_IonXpress_041_TSVC_variants.vcf\n",
      "49 Proton_A_894_20190403_IonXpress_042_TSVC_variants.vcf\n",
      "49 Proton_A_894_20190403_IonXpress_064_TSVC_variants.vcf\n",
      "49 Proton_A_894_20190403_IonXpress_081_TSVC_variants.vcf\n",
      "49 Proton_A_894_20190403_IonXpress_082_TSVC_variants.vcf\n",
      "49 Proton_A_894_20190403_IonXpress_083_TSVC_variants.vcf\n",
      "49 Proton_A_894_20190403_IonXpress_084_TSVC_variants.vcf\n",
      "49 Proton_A_894_20190403_IonXpress_085_TSVC_variants.vcf\n",
      "49 Proton_A_894_20190403_IonXpress_086_TSVC_variants.vcf\n",
      "49 Proton_A_894_20190403_IonXpress_087_TSVC_variants.vcf\n",
      "49 Proton_A_894_20190403_IonXpress_088_TSVC_variants.vcf\n"
     ]
    }
   ],
   "source": [
    "xls=[]\n",
    "vcf=[]\n",
    "txt=[]\n",
    "for root, subdirs, files in os.walk(r'C:\\Users\\yijiun0407\\Downloads\\python101_demo_data\\python101_demo_data\\data_with_subdir'):\n",
    "    for _ in files:\n",
    "        if _.endswith('.xls'):\n",
    "            print(len(_)-4,_)\n",
    "            xls.append(_)\n",
    "        elif _.endswith('.vcf'):\n",
    "            print(len(_)-4,_)\n",
    "            vcf.append(_)\n",
    "        elif _.endswith('.txt'):\n",
    "            print(len(_)-4,_)\n",
    "            txt.append(_)\n",
    "        else:\n",
    "            print('')"
   ]
  },
  {
   "cell_type": "code",
   "execution_count": 128,
   "metadata": {},
   "outputs": [
    {
     "name": "stdout",
     "output_type": "stream",
     "text": [
      "['Proton_A_816_20181115_IonXpress_007.amplicon.cov.xls', 'Proton_A_816_20181115_IonXpress_007.base.cov.xls', 'Proton_A_816_20181115_IonXpress_009.amplicon.cov.xls', 'Proton_A_816_20181115_IonXpress_009.base.cov.xls', 'Proton_A_816_20181115_IonXpress_010.amplicon.cov.xls', 'Proton_A_816_20181115_IonXpress_010.base.cov.xls', 'Proton_A_816_20181115_IonXpress_011.amplicon.cov.xls', 'Proton_A_816_20181115_IonXpress_011.base.cov.xls', 'Proton_A_816_20181115_IonXpress_012.amplicon.cov.xls', 'Proton_A_816_20181115_IonXpress_012.base.cov.xls', 'Proton_A_816_20181115_IonXpress_013.amplicon.cov.xls', 'Proton_A_816_20181115_IonXpress_013.base.cov.xls', 'Proton_A_816_20181115_IonXpress_014.amplicon.cov.xls', 'Proton_A_816_20181115_IonXpress_014.base.cov.xls', 'Proton_A_816_20181115_IonXpress_036.amplicon.cov.xls', 'Proton_A_816_20181115_IonXpress_036.base.cov.xls', 'Proton_A_816_20181115_IonXpress_037.amplicon.cov.xls', 'Proton_A_816_20181115_IonXpress_037.base.cov.xls', 'Proton_A_858_20181228_IonXpress_080.amplicon.cov.xls', 'Proton_A_858_20181228_IonXpress_080.base.cov.xls', 'Proton_A_858_20181228_IonXpress_081.amplicon.cov.xls', 'Proton_A_858_20181228_IonXpress_081.base.cov.xls', 'Proton_A_858_20181228_IonXpress_082.amplicon.cov.xls', 'Proton_A_858_20181228_IonXpress_082.base.cov.xls', 'Proton_A_858_20181228_IonXpress_083.amplicon.cov.xls', 'Proton_A_858_20181228_IonXpress_083.base.cov.xls', 'Proton_A_884_20190315_IonXpress_074.amplicon.cov.xls', 'Proton_A_884_20190315_IonXpress_074.base.cov.xls', 'Proton_A_884_20190315_IonXpress_075.amplicon.cov.xls', 'Proton_A_884_20190315_IonXpress_075.base.cov.xls', 'Proton_A_884_20190315_IonXpress_076.amplicon.cov.xls', 'Proton_A_884_20190315_IonXpress_076.base.cov.xls']\n",
      "['Proton_A_870_20190131_IonXpress_007_TSVC_variants.vcf', 'Proton_A_870_20190131_IonXpress_028_TSVC_variants.vcf', 'Proton_A_870_20190131_IonXpress_029_TSVC_variants.vcf', 'Proton_A_870_20190131_IonXpress_032_TSVC_variants.vcf', 'Proton_A_870_20190131_IonXpress_033_TSVC_variants.vcf', 'Proton_A_870_20190131_IonXpress_034_TSVC_variants.vcf', 'Proton_A_870_20190131_IonXpress_035_TSVC_variants.vcf', 'Proton_A_870_20190131_IonXpress_036_TSVC_variants.vcf', 'Proton_A_870_20190131_IonXpress_037_TSVC_variants.vcf', 'Proton_A_870_20190131_IonXpress_038_TSVC_variants.vcf', 'Proton_A_870_20190131_IonXpress_040_TSVC_variants.vcf', 'Proton_A_879_20190307_IonXpress_003_TSVC_variants.vcf', 'Proton_A_879_20190307_IonXpress_004_TSVC_variants.vcf', 'Proton_A_879_20190307_IonXpress_005_TSVC_variants.vcf', 'Proton_A_879_20190307_IonXpress_008_TSVC_variants.vcf', 'Proton_A_879_20190307_IonXpress_009_TSVC_variants.vcf', 'Proton_A_879_20190307_IonXpress_010_TSVC_variants.vcf', 'Proton_A_879_20190307_IonXpress_081_TSVC_variants.vcf', 'Proton_A_879_20190307_IonXpress_093_TSVC_variants.vcf', 'Proton_A_879_20190307_IonXpress_096_TSVC_variants.vcf', 'Proton_A_894_20190403_IonXpress_041_TSVC_variants.vcf', 'Proton_A_894_20190403_IonXpress_042_TSVC_variants.vcf', 'Proton_A_894_20190403_IonXpress_064_TSVC_variants.vcf', 'Proton_A_894_20190403_IonXpress_081_TSVC_variants.vcf', 'Proton_A_894_20190403_IonXpress_082_TSVC_variants.vcf', 'Proton_A_894_20190403_IonXpress_083_TSVC_variants.vcf', 'Proton_A_894_20190403_IonXpress_084_TSVC_variants.vcf', 'Proton_A_894_20190403_IonXpress_085_TSVC_variants.vcf', 'Proton_A_894_20190403_IonXpress_086_TSVC_variants.vcf', 'Proton_A_894_20190403_IonXpress_087_TSVC_variants.vcf', 'Proton_A_894_20190403_IonXpress_088_TSVC_variants.vcf']\n",
      "['Proton_A_816_20181115_IonXpress_007.stats.cov.txt', 'Proton_A_816_20181115_IonXpress_009.stats.cov.txt', 'Proton_A_816_20181115_IonXpress_010.stats.cov.txt', 'Proton_A_816_20181115_IonXpress_011.stats.cov.txt', 'Proton_A_816_20181115_IonXpress_012.stats.cov.txt', 'Proton_A_816_20181115_IonXpress_013.stats.cov.txt', 'Proton_A_816_20181115_IonXpress_014.stats.cov.txt', 'Proton_A_816_20181115_IonXpress_036.stats.cov.txt', 'Proton_A_816_20181115_IonXpress_037.stats.cov.txt', 'Proton_A_858_20181228_IonXpress_080.stats.cov.txt', 'Proton_A_858_20181228_IonXpress_081.stats.cov.txt', 'Proton_A_858_20181228_IonXpress_082.stats.cov.txt', 'Proton_A_858_20181228_IonXpress_083.stats.cov.txt', 'Proton_A_884_20190315_IonXpress_074.stats.cov.txt', 'Proton_A_884_20190315_IonXpress_075.stats.cov.txt', 'Proton_A_884_20190315_IonXpress_076.stats.cov.txt']\n"
     ]
    }
   ],
   "source": [
    "print(xls)\n",
    "print(vcf)\n",
    "print(txt)"
   ]
  },
  {
   "cell_type": "code",
   "execution_count": null,
   "metadata": {},
   "outputs": [],
   "source": [
    "b.append(('i', 'you'))"
   ]
  },
  {
   "cell_type": "code",
   "execution_count": 118,
   "metadata": {},
   "outputs": [
    {
     "name": "stdout",
     "output_type": "stream",
     "text": [
      "C:\\Users\\yijiun0407\\Downloads\\python101_demo_data\\python101_demo_data\\data_with_subdir\n",
      "['CNV', 'VCF']\n",
      "[]\n",
      "C:\\Users\\yijiun0407\\Downloads\\python101_demo_data\\python101_demo_data\\data_with_subdir\\CNV\n",
      "['Proton_A_816_20181115', 'Proton_A_858_20181228', 'Proton_A_884_20190315']\n",
      "[]\n",
      "C:\\Users\\yijiun0407\\Downloads\\python101_demo_data\\python101_demo_data\\data_with_subdir\\CNV\\Proton_A_816_20181115\n",
      "[]\n",
      "['Proton_A_816_20181115_IonXpress_007.amplicon.cov.xls', 'Proton_A_816_20181115_IonXpress_007.base.cov.xls', 'Proton_A_816_20181115_IonXpress_007.stats.cov.txt', 'Proton_A_816_20181115_IonXpress_009.amplicon.cov.xls', 'Proton_A_816_20181115_IonXpress_009.base.cov.xls', 'Proton_A_816_20181115_IonXpress_009.stats.cov.txt', 'Proton_A_816_20181115_IonXpress_010.amplicon.cov.xls', 'Proton_A_816_20181115_IonXpress_010.base.cov.xls', 'Proton_A_816_20181115_IonXpress_010.stats.cov.txt', 'Proton_A_816_20181115_IonXpress_011.amplicon.cov.xls', 'Proton_A_816_20181115_IonXpress_011.base.cov.xls', 'Proton_A_816_20181115_IonXpress_011.stats.cov.txt', 'Proton_A_816_20181115_IonXpress_012.amplicon.cov.xls', 'Proton_A_816_20181115_IonXpress_012.base.cov.xls', 'Proton_A_816_20181115_IonXpress_012.stats.cov.txt', 'Proton_A_816_20181115_IonXpress_013.amplicon.cov.xls', 'Proton_A_816_20181115_IonXpress_013.base.cov.xls', 'Proton_A_816_20181115_IonXpress_013.stats.cov.txt', 'Proton_A_816_20181115_IonXpress_014.amplicon.cov.xls', 'Proton_A_816_20181115_IonXpress_014.base.cov.xls', 'Proton_A_816_20181115_IonXpress_014.stats.cov.txt', 'Proton_A_816_20181115_IonXpress_036.amplicon.cov.xls', 'Proton_A_816_20181115_IonXpress_036.base.cov.xls', 'Proton_A_816_20181115_IonXpress_036.stats.cov.txt', 'Proton_A_816_20181115_IonXpress_037.amplicon.cov.xls', 'Proton_A_816_20181115_IonXpress_037.base.cov.xls', 'Proton_A_816_20181115_IonXpress_037.stats.cov.txt']\n",
      "C:\\Users\\yijiun0407\\Downloads\\python101_demo_data\\python101_demo_data\\data_with_subdir\\CNV\\Proton_A_858_20181228\n",
      "[]\n",
      "['Proton_A_858_20181228_IonXpress_080.amplicon.cov.xls', 'Proton_A_858_20181228_IonXpress_080.base.cov.xls', 'Proton_A_858_20181228_IonXpress_080.stats.cov.txt', 'Proton_A_858_20181228_IonXpress_081.amplicon.cov.xls', 'Proton_A_858_20181228_IonXpress_081.base.cov.xls', 'Proton_A_858_20181228_IonXpress_081.stats.cov.txt', 'Proton_A_858_20181228_IonXpress_082.amplicon.cov.xls', 'Proton_A_858_20181228_IonXpress_082.base.cov.xls', 'Proton_A_858_20181228_IonXpress_082.stats.cov.txt', 'Proton_A_858_20181228_IonXpress_083.amplicon.cov.xls', 'Proton_A_858_20181228_IonXpress_083.base.cov.xls', 'Proton_A_858_20181228_IonXpress_083.stats.cov.txt']\n",
      "C:\\Users\\yijiun0407\\Downloads\\python101_demo_data\\python101_demo_data\\data_with_subdir\\CNV\\Proton_A_884_20190315\n",
      "[]\n",
      "['Proton_A_884_20190315_IonXpress_074.amplicon.cov.xls', 'Proton_A_884_20190315_IonXpress_074.base.cov.xls', 'Proton_A_884_20190315_IonXpress_074.stats.cov.txt', 'Proton_A_884_20190315_IonXpress_075.amplicon.cov.xls', 'Proton_A_884_20190315_IonXpress_075.base.cov.xls', 'Proton_A_884_20190315_IonXpress_075.stats.cov.txt', 'Proton_A_884_20190315_IonXpress_076.amplicon.cov.xls', 'Proton_A_884_20190315_IonXpress_076.base.cov.xls', 'Proton_A_884_20190315_IonXpress_076.stats.cov.txt']\n",
      "C:\\Users\\yijiun0407\\Downloads\\python101_demo_data\\python101_demo_data\\data_with_subdir\\VCF\n",
      "['Proton_A_870_20190131', 'Proton_A_879_20190307', 'Proton_A_894_20190403']\n",
      "[]\n",
      "C:\\Users\\yijiun0407\\Downloads\\python101_demo_data\\python101_demo_data\\data_with_subdir\\VCF\\Proton_A_870_20190131\n",
      "[]\n",
      "['Proton_A_870_20190131_IonXpress_007_TSVC_variants.vcf', 'Proton_A_870_20190131_IonXpress_028_TSVC_variants.vcf', 'Proton_A_870_20190131_IonXpress_029_TSVC_variants.vcf', 'Proton_A_870_20190131_IonXpress_032_TSVC_variants.vcf', 'Proton_A_870_20190131_IonXpress_033_TSVC_variants.vcf', 'Proton_A_870_20190131_IonXpress_034_TSVC_variants.vcf', 'Proton_A_870_20190131_IonXpress_035_TSVC_variants.vcf', 'Proton_A_870_20190131_IonXpress_036_TSVC_variants.vcf', 'Proton_A_870_20190131_IonXpress_037_TSVC_variants.vcf', 'Proton_A_870_20190131_IonXpress_038_TSVC_variants.vcf', 'Proton_A_870_20190131_IonXpress_040_TSVC_variants.vcf']\n",
      "C:\\Users\\yijiun0407\\Downloads\\python101_demo_data\\python101_demo_data\\data_with_subdir\\VCF\\Proton_A_879_20190307\n",
      "[]\n",
      "['Proton_A_879_20190307_IonXpress_003_TSVC_variants.vcf', 'Proton_A_879_20190307_IonXpress_004_TSVC_variants.vcf', 'Proton_A_879_20190307_IonXpress_005_TSVC_variants.vcf', 'Proton_A_879_20190307_IonXpress_008_TSVC_variants.vcf', 'Proton_A_879_20190307_IonXpress_009_TSVC_variants.vcf', 'Proton_A_879_20190307_IonXpress_010_TSVC_variants.vcf', 'Proton_A_879_20190307_IonXpress_081_TSVC_variants.vcf', 'Proton_A_879_20190307_IonXpress_093_TSVC_variants.vcf', 'Proton_A_879_20190307_IonXpress_096_TSVC_variants.vcf']\n",
      "C:\\Users\\yijiun0407\\Downloads\\python101_demo_data\\python101_demo_data\\data_with_subdir\\VCF\\Proton_A_894_20190403\n",
      "[]\n",
      "['Proton_A_894_20190403_IonXpress_041_TSVC_variants.vcf', 'Proton_A_894_20190403_IonXpress_042_TSVC_variants.vcf', 'Proton_A_894_20190403_IonXpress_064_TSVC_variants.vcf', 'Proton_A_894_20190403_IonXpress_081_TSVC_variants.vcf', 'Proton_A_894_20190403_IonXpress_082_TSVC_variants.vcf', 'Proton_A_894_20190403_IonXpress_083_TSVC_variants.vcf', 'Proton_A_894_20190403_IonXpress_084_TSVC_variants.vcf', 'Proton_A_894_20190403_IonXpress_085_TSVC_variants.vcf', 'Proton_A_894_20190403_IonXpress_086_TSVC_variants.vcf', 'Proton_A_894_20190403_IonXpress_087_TSVC_variants.vcf', 'Proton_A_894_20190403_IonXpress_088_TSVC_variants.vcf']\n"
     ]
    }
   ],
   "source": [
    "for root, subdirs, files in os.walk(r'C:\\Users\\yijiun0407\\Downloads\\python101_demo_data\\python101_demo_data\\data_with_subdir'):\n",
    "    print(root)\n",
    "    print(subdirs)\n",
    "    print(files)"
   ]
  }
 ],
 "metadata": {
  "kernelspec": {
   "display_name": "Python 3",
   "language": "python",
   "name": "python3"
  },
  "language_info": {
   "codemirror_mode": {
    "name": "ipython",
    "version": 3
   },
   "file_extension": ".py",
   "mimetype": "text/x-python",
   "name": "python",
   "nbconvert_exporter": "python",
   "pygments_lexer": "ipython3",
   "version": "3.7.1"
  }
 },
 "nbformat": 4,
 "nbformat_minor": 2
}
