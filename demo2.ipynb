{
 "cells": [
  {
   "cell_type": "code",
   "execution_count": 2,
   "metadata": {},
   "outputs": [
    {
     "data": {
      "text/plain": [
       "14"
      ]
     },
     "execution_count": 2,
     "metadata": {},
     "output_type": "execute_result"
    }
   ],
   "source": [
    "a=2\n",
    "d=12\n",
    "print (a+d)"
   ]
  },
  {
   "cell_type": "code",
   "execution_count": 7,
   "metadata": {},
   "outputs": [
    {
     "name": "stdout",
     "output_type": "stream",
     "text": [
      "Writing python_code.py\n"
     ]
    }
   ],
   "source": [
    "%%writefile python_code.py\n",
    "a=3\n",
    "b=44\n",
    "print (a+b)"
   ]
  },
  {
   "cell_type": "code",
   "execution_count": 5,
   "metadata": {},
   "outputs": [
    {
     "ename": "SyntaxError",
     "evalue": "invalid syntax (<ipython-input-5-2fcfbaed8bb9>, line 4)",
     "output_type": "error",
     "traceback": [
      "\u001b[1;36m  File \u001b[1;32m\"<ipython-input-5-2fcfbaed8bb9>\"\u001b[1;36m, line \u001b[1;32m4\u001b[0m\n\u001b[1;33m    1. Anaconda install\u001b[0m\n\u001b[1;37m              ^\u001b[0m\n\u001b[1;31mSyntaxError\u001b[0m\u001b[1;31m:\u001b[0m invalid syntax\n"
     ]
    }
   ],
   "source": [
    "# %load python101_0326.md\n",
    "## python101_0326\n",
    "\n",
    "1. Anaconda install\n",
    "\n",
    "2. Using jupyterlab as our coding tool\n",
    "\n",
    "3. jupyterlab \n",
    "\n",
    "   - command mode :  press 'ESC' \n",
    "   - edit mode : press 'Enter'\n",
    "   - each cell : \n",
    "     - markdown (in command mode : press 'm')\n",
    "     - code (in command mode : press 'y')\n",
    "\n",
    "   - write some codes in cell and execute\n",
    "     - Alt + Enter (execute code and add new cell below)\n",
    "     - Ctrl + Enter (execute code only)\n",
    "     - Shift + Enter (execute code and move to new cell below)\n",
    "\n",
    "   - install package/module in cell\n",
    "     - !pip install emoji (if you want to install python packages you are interesting)\n",
    "     - pypi is the official python packages/modules source\n",
    "\n",
    "   - %run xxx.ipynb or %run xxxx.py (run ipynb or py file in the cell)\n",
    "   - data = 'data here , please using me', %store data and using the data in another ipynb file\n",
    "   - %%wirtefile pythocode.py (output the cell content to pythoncode.py)\n",
    "\n",
    "4. python101 : \n",
    "\n",
    "   - 4 data_type\n",
    "     - int : interger (1, 3, 5)\n",
    "     - float : 小數 (1.3, 2.5)\n",
    "     - string : 字串 ('i am a python string')\n",
    "     - bool : True/False\n",
    "\n",
    "   - assign variable using *=*\n",
    "     - a = 15, b = 'i am a python string'\n",
    "   - compare using *==*(等於) or *!=*(不等於)\n",
    "     - a == 15, a !=16\n",
    "     - b == 'i am a python string', b!='i am not a python string'\n",
    "\n",
    "   - ```python\n",
    "     if a is True:\n",
    "         print (a) # 假設a這個是對的話，則執行下面這件事情\n",
    "     ```"
   ]
  },
  {
   "cell_type": "code",
   "execution_count": 4,
   "metadata": {},
   "outputs": [
    {
     "name": "stdout",
     "output_type": "stream",
     "text": [
      "47\n"
     ]
    }
   ],
   "source": [
    "# %load python_code.py\n",
    "a=3\n",
    "b=44\n",
    "print (a+b)\n"
   ]
  },
  {
   "cell_type": "code",
   "execution_count": 6,
   "metadata": {},
   "outputs": [
    {
     "name": "stdout",
     "output_type": "stream",
     "text": [
      "47\n"
     ]
    }
   ],
   "source": [
    "%run python_code.py"
   ]
  },
  {
   "cell_type": "code",
   "execution_count": null,
   "metadata": {},
   "outputs": [],
   "source": [
    "%%writefile pythoncode.py\n"
   ]
  }
 ],
 "metadata": {
  "kernelspec": {
   "display_name": "Python 3",
   "language": "python",
   "name": "python3"
  },
  "language_info": {
   "codemirror_mode": {
    "name": "ipython",
    "version": 3
   },
   "file_extension": ".py",
   "mimetype": "text/x-python",
   "name": "python",
   "nbconvert_exporter": "python",
   "pygments_lexer": "ipython3",
   "version": "3.7.1"
  }
 },
 "nbformat": 4,
 "nbformat_minor": 2
}
