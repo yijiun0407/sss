{
 "cells": [
  {
   "cell_type": "code",
   "execution_count": 2,
   "metadata": {},
   "outputs": [],
   "source": [
    "# 190521"
   ]
  },
  {
   "cell_type": "code",
   "execution_count": 7,
   "metadata": {},
   "outputs": [],
   "source": [
    "import os"
   ]
  },
  {
   "cell_type": "code",
   "execution_count": 25,
   "metadata": {},
   "outputs": [
    {
     "name": "stdout",
     "output_type": "stream",
     "text": [
      "C://Users//yijiun0407/Documents/GitHub/sss/190507.ipynb\n",
      "C://Users//yijiun0407/Documents/GitHub/sss/190514.ipynb\n",
      "C://Users//yijiun0407/Documents/GitHub/sss/190521.ipynb\n",
      "C://Users//yijiun0407/Documents/GitHub/sss/20190409_note.ipynb\n",
      "C://Users//yijiun0407/Documents/GitHub/sss/20190416.ipynb\n",
      "C://Users//yijiun0407/Documents/GitHub/sss/20190430-1.ipynb\n",
      "C://Users//yijiun0407/Documents/GitHub/sss/20190430.ipynb\n",
      "C://Users//yijiun0407/Documents/GitHub/sss/demo1.ipynb\n",
      "C://Users//yijiun0407/Documents/GitHub/sss/demo2.ipynb\n",
      "C://Users//yijiun0407/Documents/GitHub/sss/project1.ipynb\n",
      "C://Users//yijiun0407/Documents/GitHub/sss/Untitled.ipynb\n",
      "C://Users//yijiun0407/Documents/GitHub/sss/Untitled1.ipynb\n",
      "C://Users//yijiun0407/Documents/GitHub/sss/.ipynb_checkpoints\\190507-checkpoint.ipynb\n",
      "C://Users//yijiun0407/Documents/GitHub/sss/.ipynb_checkpoints\\190514-checkpoint.ipynb\n",
      "C://Users//yijiun0407/Documents/GitHub/sss/.ipynb_checkpoints\\190521-checkpoint.ipynb\n",
      "C://Users//yijiun0407/Documents/GitHub/sss/.ipynb_checkpoints\\20190409_note-checkpoint.ipynb\n",
      "C://Users//yijiun0407/Documents/GitHub/sss/.ipynb_checkpoints\\20190416-checkpoint.ipynb\n",
      "C://Users//yijiun0407/Documents/GitHub/sss/.ipynb_checkpoints\\20190430-1-checkpoint.ipynb\n",
      "C://Users//yijiun0407/Documents/GitHub/sss/.ipynb_checkpoints\\20190430-checkpoint.ipynb\n",
      "C://Users//yijiun0407/Documents/GitHub/sss/.ipynb_checkpoints\\demo1-checkpoint.ipynb\n",
      "C://Users//yijiun0407/Documents/GitHub/sss/.ipynb_checkpoints\\demo2-checkpoint.ipynb\n",
      "C://Users//yijiun0407/Documents/GitHub/sss/.ipynb_checkpoints\\project1-checkpoint.ipynb\n",
      "C://Users//yijiun0407/Documents/GitHub/sss/.ipynb_checkpoints\\Untitled-checkpoint.ipynb\n",
      "C://Users//yijiun0407/Documents/GitHub/sss/.ipynb_checkpoints\\Untitled1-checkpoint.ipynb\n"
     ]
    }
   ],
   "source": [
    "for root,subdir,files in os.walk('C://Users//yijiun0407/Documents/GitHub/sss/'):\n",
    "    for file in files:\n",
    "        if file.endswith('ipynb'):\n",
    "            print(os.path.join(root,file))"
   ]
  },
  {
   "cell_type": "code",
   "execution_count": 53,
   "metadata": {},
   "outputs": [
    {
     "name": "stdout",
     "output_type": "stream",
     "text": [
      "['{', ' \"cells\": [', '  {', '   \"cell_type\": \"code\",', '   \"execution_count\": 2,']\n",
      "['{', ' \"cells\": [', '  {', '   \"cell_type\": \"markdown\",', '   \"metadata\": {},']\n",
      "['{', ' \"cells\": [', '  {', '   \"cell_type\": \"code\",', '   \"execution_count\": 3,']\n",
      "['{', ' \"cells\": [', '  {', '   \"cell_type\": \"markdown\",', '   \"metadata\": {},']\n",
      "['{', ' \"cells\": [],', ' \"metadata\": {},', ' \"nbformat\": 4,', ' \"nbformat_minor\": 2']\n",
      "['{', ' \"cells\": [],', ' \"metadata\": {},', ' \"nbformat\": 4,', ' \"nbformat_minor\": 2']\n",
      "['{', ' \"cells\": [],', ' \"metadata\": {},', ' \"nbformat\": 4,', ' \"nbformat_minor\": 2']\n",
      "['{', ' \"cells\": [],', ' \"metadata\": {},', ' \"nbformat\": 4,', ' \"nbformat_minor\": 2']\n",
      "['{', ' \"cells\": [],', ' \"metadata\": {},', ' \"nbformat\": 4,', ' \"nbformat_minor\": 2']\n",
      "['{', ' \"cells\": [],', ' \"metadata\": {},', ' \"nbformat\": 4,', ' \"nbformat_minor\": 2']\n",
      "['{', ' \"cells\": [],', ' \"metadata\": {},', ' \"nbformat\": 4,', ' \"nbformat_minor\": 2']\n",
      "['{', ' \"cells\": [', '  {', '   \"cell_type\": \"code\",', '   \"execution_count\": 2,']\n",
      "['{', ' \"cells\": [],', ' \"metadata\": {},', ' \"nbformat\": 4,', ' \"nbformat_minor\": 2']\n",
      "['{', ' \"cells\": [],', ' \"metadata\": {},', ' \"nbformat\": 4,', ' \"nbformat_minor\": 2']\n",
      "['{', ' \"cells\": [],', ' \"metadata\": {},', ' \"nbformat\": 4,', ' \"nbformat_minor\": 2']\n"
     ]
    }
   ],
   "source": [
    "for root,subdir,files in os.walk('C://Users//yijiun0407/Documents/GitHub/sss/'):\n",
    "    for file in files:\n",
    "        if file.endswith('ipynb'):\n",
    "            try:\n",
    "                with open(os.path.join(root,file)) as rf:\n",
    "                    content=rf.read().splitlines()\n",
    "                    print(content[0:5])\n",
    "            except:\n",
    "                pass#有編碼錯誤不理他"
   ]
  },
  {
   "cell_type": "code",
   "execution_count": 72,
   "metadata": {},
   "outputs": [
    {
     "name": "stdout",
     "output_type": "stream",
     "text": [
      "['Target base coverage at 500x:      89.12%', 'Target base coverage at 1000x:     66.14%', 'Target base coverage at 2000x:     22.00%', 'Target bases with no strand bias:  98.16%', 'Percent end-to-end reads:          92.94%']\n",
      "['Target base coverage at 500x:      70.84%', 'Target base coverage at 1000x:     27.87%', 'Target base coverage at 2000x:     3.98%', 'Target bases with no strand bias:  97.87%', 'Percent end-to-end reads:          92.84%']\n",
      "['Target base coverage at 500x:      86.66%', 'Target base coverage at 1000x:     55.85%', 'Target base coverage at 2000x:     14.06%', 'Target bases with no strand bias:  98.08%', 'Percent end-to-end reads:          92.97%']\n",
      "['Target base coverage at 500x:      63.98%', 'Target base coverage at 1000x:     22.29%', 'Target base coverage at 2000x:     2.88%', 'Target bases with no strand bias:  97.49%', 'Percent end-to-end reads:          92.42%']\n",
      "['Target base coverage at 500x:      89.02%', 'Target base coverage at 1000x:     79.52%', 'Target base coverage at 2000x:     47.33%', 'Target bases with no strand bias:  97.34%', 'Percent end-to-end reads:          92.53%']\n",
      "['Target base coverage at 500x:      90.77%', 'Target base coverage at 1000x:     81.30%', 'Target base coverage at 2000x:     45.92%', 'Target bases with no strand bias:  96.04%', 'Percent end-to-end reads:          91.86%']\n",
      "['Target base coverage at 500x:      95.93%', 'Target base coverage at 1000x:     87.65%', 'Target base coverage at 2000x:     54.74%', 'Target bases with no strand bias:  93.99%', 'Percent end-to-end reads:          76.23%']\n",
      "['Target base coverage at 500x:      100.00%', 'Target base coverage at 1000x:     100.00%', 'Target base coverage at 2000x:     100.00%', 'Target bases with no strand bias:  100.00%', 'Percent end-to-end reads:          91.84%']\n",
      "['Target base coverage at 500x:      98.95%', 'Target base coverage at 1000x:     98.55%', 'Target base coverage at 2000x:     95.56%', 'Target bases with no strand bias:  97.11%', 'Percent end-to-end reads:          89.12%']\n",
      "['Target base coverage at 500x:      98.11%', 'Target base coverage at 1000x:     92.73%', 'Target base coverage at 2000x:     75.07%', 'Target bases with no strand bias:  99.14%', 'Percent end-to-end reads:          90.71%']\n",
      "['Target base coverage at 500x:      0.00%', 'Target base coverage at 1000x:     0.00%', 'Target base coverage at 2000x:     0.00%', 'Target bases with no strand bias:  99.86%', 'Percent end-to-end reads:          2.17%']\n",
      "['Target base coverage at 500x:      82.94%', 'Target base coverage at 1000x:     58.12%', 'Target base coverage at 2000x:     21.00%', 'Target bases with no strand bias:  97.07%', 'Percent end-to-end reads:          92.50%']\n",
      "['Target base coverage at 500x:      87.05%', 'Target base coverage at 1000x:     65.10%', 'Target base coverage at 2000x:     24.75%', 'Target bases with no strand bias:  97.81%', 'Percent end-to-end reads:          92.31%']\n",
      "['Target base coverage at 500x:      85.92%', 'Target base coverage at 1000x:     63.67%', 'Target base coverage at 2000x:     23.58%', 'Target bases with no strand bias:  97.65%', 'Percent end-to-end reads:          92.53%']\n",
      "['Target base coverage at 500x:      82.55%', 'Target base coverage at 1000x:     54.98%', 'Target base coverage at 2000x:     14.43%', 'Target bases with no strand bias:  97.82%', 'Percent end-to-end reads:          92.27%']\n"
     ]
    }
   ],
   "source": [
    "files = os.listdir('C:\\\\Users\\\\yijiun0407\\\\Downloads\\\\python101_demo_data\\\\python101_demo_data\\\\data_wo_sudir')\n",
    "TXT=[]\n",
    "for file in files:\n",
    "    if file.endswith('.txt'):\n",
    "        TXT.append(_)\n",
    "        file_path ='C:\\\\Users\\\\yijiun0407\\\\Downloads\\\\python101_demo_data\\\\python101_demo_data\\\\data_wo_sudir\\\\'+file\n",
    "        with open(file_path) as txt1:\n",
    "            print(txt1.read().splitlines()[-5:])"
   ]
  },
  {
   "cell_type": "code",
   "execution_count": 80,
   "metadata": {},
   "outputs": [
    {
     "name": "stdout",
     "output_type": "stream",
     "text": [
      "['Target base coverage at 500x:      89.12%', 'Target base coverage at 1000x:     66.14%', 'Target base coverage at 2000x:     22.00%', 'Target bases with no strand bias:  98.16%', 'Percent end-to-end reads:          92.94%']\n",
      "['Target base coverage at 500x:      70.84%', 'Target base coverage at 1000x:     27.87%', 'Target base coverage at 2000x:     3.98%', 'Target bases with no strand bias:  97.87%', 'Percent end-to-end reads:          92.84%']\n",
      "['Target base coverage at 500x:      86.66%', 'Target base coverage at 1000x:     55.85%', 'Target base coverage at 2000x:     14.06%', 'Target bases with no strand bias:  98.08%', 'Percent end-to-end reads:          92.97%']\n",
      "['Target base coverage at 500x:      63.98%', 'Target base coverage at 1000x:     22.29%', 'Target base coverage at 2000x:     2.88%', 'Target bases with no strand bias:  97.49%', 'Percent end-to-end reads:          92.42%']\n",
      "['Target base coverage at 500x:      89.02%', 'Target base coverage at 1000x:     79.52%', 'Target base coverage at 2000x:     47.33%', 'Target bases with no strand bias:  97.34%', 'Percent end-to-end reads:          92.53%']\n",
      "['Target base coverage at 500x:      90.77%', 'Target base coverage at 1000x:     81.30%', 'Target base coverage at 2000x:     45.92%', 'Target bases with no strand bias:  96.04%', 'Percent end-to-end reads:          91.86%']\n",
      "['Target base coverage at 500x:      95.93%', 'Target base coverage at 1000x:     87.65%', 'Target base coverage at 2000x:     54.74%', 'Target bases with no strand bias:  93.99%', 'Percent end-to-end reads:          76.23%']\n",
      "['Target base coverage at 500x:      100.00%', 'Target base coverage at 1000x:     100.00%', 'Target base coverage at 2000x:     100.00%', 'Target bases with no strand bias:  100.00%', 'Percent end-to-end reads:          91.84%']\n",
      "['Target base coverage at 500x:      98.95%', 'Target base coverage at 1000x:     98.55%', 'Target base coverage at 2000x:     95.56%', 'Target bases with no strand bias:  97.11%', 'Percent end-to-end reads:          89.12%']\n",
      "['Target base coverage at 500x:      98.11%', 'Target base coverage at 1000x:     92.73%', 'Target base coverage at 2000x:     75.07%', 'Target bases with no strand bias:  99.14%', 'Percent end-to-end reads:          90.71%']\n",
      "['Target base coverage at 500x:      0.00%', 'Target base coverage at 1000x:     0.00%', 'Target base coverage at 2000x:     0.00%', 'Target bases with no strand bias:  99.86%', 'Percent end-to-end reads:          2.17%']\n",
      "['Target base coverage at 500x:      82.94%', 'Target base coverage at 1000x:     58.12%', 'Target base coverage at 2000x:     21.00%', 'Target bases with no strand bias:  97.07%', 'Percent end-to-end reads:          92.50%']\n",
      "['Target base coverage at 500x:      87.05%', 'Target base coverage at 1000x:     65.10%', 'Target base coverage at 2000x:     24.75%', 'Target bases with no strand bias:  97.81%', 'Percent end-to-end reads:          92.31%']\n",
      "['Target base coverage at 500x:      85.92%', 'Target base coverage at 1000x:     63.67%', 'Target base coverage at 2000x:     23.58%', 'Target bases with no strand bias:  97.65%', 'Percent end-to-end reads:          92.53%']\n",
      "['Target base coverage at 500x:      82.55%', 'Target base coverage at 1000x:     54.98%', 'Target base coverage at 2000x:     14.43%', 'Target bases with no strand bias:  97.82%', 'Percent end-to-end reads:          92.27%']\n"
     ]
    }
   ],
   "source": [
    "files = os.listdir('C:\\\\Users\\\\yijiun0407\\\\Downloads\\\\python101_demo_data\\\\python101_demo_data\\\\data_wo_sudir')\n",
    "\n",
    "TXTX=[]\n",
    "for file in files:\n",
    "    if file.endswith('txt'):\n",
    "        TXTX.append(file)\n",
    "        file_path1='C:\\\\Users\\\\yijiun0407\\\\Downloads\\\\python101_demo_data\\\\python101_demo_data\\\\data_wo_sudir\\\\'+file\n",
    "        with open(file_path1) as txt2:\n",
    "            print(txt2.read().splitlines()[-5:])"
   ]
  },
  {
   "cell_type": "code",
   "execution_count": 81,
   "metadata": {},
   "outputs": [
    {
     "ename": "NameError",
     "evalue": "name 'folder' is not defined",
     "output_type": "error",
     "traceback": [
      "\u001b[1;31m---------------------------------------------------------------------------\u001b[0m",
      "\u001b[1;31mNameError\u001b[0m                                 Traceback (most recent call last)",
      "\u001b[1;32m<ipython-input-81-7b519991afaf>\u001b[0m in \u001b[0;36m<module>\u001b[1;34m\u001b[0m\n\u001b[1;32m----> 1\u001b[1;33m \u001b[1;32mfor\u001b[0m \u001b[0mfoot\u001b[0m\u001b[1;33m,\u001b[0m\u001b[0msubdirs\u001b[0m\u001b[1;33m,\u001b[0m \u001b[0mfiles\u001b[0m \u001b[1;32min\u001b[0m \u001b[0mos\u001b[0m\u001b[1;33m.\u001b[0m\u001b[0mwalk\u001b[0m\u001b[1;33m(\u001b[0m\u001b[0mfolder\u001b[0m\u001b[1;33m)\u001b[0m\u001b[1;33m:\u001b[0m\u001b[1;33m\u001b[0m\u001b[1;33m\u001b[0m\u001b[0m\n\u001b[0m\u001b[0;32m      2\u001b[0m     \u001b[1;32mfor\u001b[0m \u001b[0mfile\u001b[0m \u001b[1;32min\u001b[0m \u001b[0mfiles\u001b[0m\u001b[1;33m:\u001b[0m\u001b[1;33m\u001b[0m\u001b[1;33m\u001b[0m\u001b[0m\n\u001b[0;32m      3\u001b[0m         \u001b[1;32mif\u001b[0m \u001b[0mfile\u001b[0m\u001b[1;33m.\u001b[0m\u001b[0mendswith\u001b[0m\u001b[1;33m(\u001b[0m\u001b[1;34m'txt'\u001b[0m\u001b[1;33m)\u001b[0m\u001b[1;33m:\u001b[0m\u001b[1;33m\u001b[0m\u001b[1;33m\u001b[0m\u001b[0m\n\u001b[0;32m      4\u001b[0m             \u001b[0mfile_path\u001b[0m\u001b[1;33m=\u001b[0m\u001b[0mos\u001b[0m\u001b[1;33m.\u001b[0m\u001b[0mpath\u001b[0m\u001b[1;33m.\u001b[0m\u001b[0mjoin\u001b[0m\u001b[1;33m(\u001b[0m\u001b[0mroot\u001b[0m\u001b[1;33m,\u001b[0m\u001b[0mfile\u001b[0m\u001b[1;33m)\u001b[0m\u001b[1;33m\u001b[0m\u001b[1;33m\u001b[0m\u001b[0m\n\u001b[0;32m      5\u001b[0m             \u001b[1;32mwith\u001b[0m \u001b[0mopen\u001b[0m\u001b[1;33m(\u001b[0m\u001b[0mfile_path\u001b[0m\u001b[1;33m)\u001b[0m \u001b[1;32mas\u001b[0m \u001b[0mrf\u001b[0m\u001b[1;33m:\u001b[0m\u001b[1;33m\u001b[0m\u001b[1;33m\u001b[0m\u001b[0m\n",
      "\u001b[1;31mNameError\u001b[0m: name 'folder' is not defined"
     ]
    }
   ],
   "source": [
    "for foot,subdirs, files in os.walk(folder):\n",
    "    for file in files:\n",
    "        if file.endswith('txt'):\n",
    "            file_path=os.path.join(root,file)\n",
    "            with open(file_path) as rf:\n",
    "                reading = rf.read().splitlines()[14,25]\n",
    "                print(reading)\n",
    "            "
   ]
  },
  {
   "cell_type": "code",
   "execution_count": 79,
   "metadata": {},
   "outputs": [
    {
     "name": "stdout",
     "output_type": "stream",
     "text": [
      "['Average reads per amplicon:         1378', 'Uniformity of amplicon coverage:    93.26%', 'Amplicons with at least 1 read: 99.60%', 'Amplicons with at least 1 reads:    99.60%', 'Amplicons with at least 10 reads:   98.83%', 'Amplicons with at least 20 reads:   98.31%', 'Amplicons with at least 50 reads:   97.27%', 'Amplicons with at least 100 reads:  96.10%', 'Amplicons with at least 200 reads:  94.41%', 'Amplicons with at least 500 reads:  88.61%', 'Amplicons with at least 1000 reads: 65.92%']\n",
      "['Average reads per amplicon:         758.7', 'Uniformity of amplicon coverage:    92.11%', 'Amplicons with at least 1 read: 99.46%', 'Amplicons with at least 1 reads:    99.46%', 'Amplicons with at least 10 reads:   98.68%', 'Amplicons with at least 20 reads:   97.96%', 'Amplicons with at least 50 reads:   95.99%', 'Amplicons with at least 100 reads:  93.93%', 'Amplicons with at least 200 reads:  90.41%', 'Amplicons with at least 500 reads:  70.13%', 'Amplicons with at least 1000 reads: 24.33%']\n",
      "['Average reads per amplicon:         1151', 'Uniformity of amplicon coverage:    93.40%', 'Amplicons with at least 1 read: 99.60%', 'Amplicons with at least 1 reads:    99.60%', 'Amplicons with at least 10 reads:   98.89%', 'Amplicons with at least 20 reads:   98.34%', 'Amplicons with at least 50 reads:   97.26%', 'Amplicons with at least 100 reads:  95.84%', 'Amplicons with at least 200 reads:  94.05%', 'Amplicons with at least 500 reads:  86.08%', 'Amplicons with at least 1000 reads: 54.69%']\n",
      "['Average reads per amplicon:         691.8', 'Uniformity of amplicon coverage:    92.39%', 'Amplicons with at least 1 read: 99.45%', 'Amplicons with at least 1 reads:    99.45%', 'Amplicons with at least 10 reads:   98.71%', 'Amplicons with at least 20 reads:   98.05%', 'Amplicons with at least 50 reads:   96.30%', 'Amplicons with at least 100 reads:  93.94%', 'Amplicons with at least 200 reads:  89.53%', 'Amplicons with at least 500 reads:  62.73%', 'Amplicons with at least 1000 reads: 19.56%']\n",
      "['Average reads per amplicon:         1923', 'Uniformity of amplicon coverage:    89.89%', 'Amplicons with at least 1 read: 99.52%', 'Amplicons with at least 1 reads:    99.52%', 'Amplicons with at least 10 reads:   98.69%', 'Amplicons with at least 20 reads:   98.11%', 'Amplicons with at least 50 reads:   96.79%', 'Amplicons with at least 100 reads:  95.14%', 'Amplicons with at least 200 reads:  92.93%', 'Amplicons with at least 500 reads:  87.97%', 'Amplicons with at least 1000 reads: 78.34%']\n",
      "['Average reads per amplicon:         1965', 'Uniformity of amplicon coverage:    91.35%', 'Amplicons with at least 1 read: 99.65%', 'Amplicons with at least 1 reads:    99.65%', 'Amplicons with at least 10 reads:   99.10%', 'Amplicons with at least 20 reads:   98.87%', 'Amplicons with at least 50 reads:   98.09%', 'Amplicons with at least 100 reads:  96.67%', 'Amplicons with at least 200 reads:  94.48%', 'Amplicons with at least 500 reads:  89.82%', 'Amplicons with at least 1000 reads: 80.47%']\n",
      "['Average reads per amplicon:         2519', 'Uniformity of amplicon coverage:    96.40%', 'Amplicons with at least 1 read: 100.00%', 'Amplicons with at least 1 reads:    100.00%', 'Amplicons with at least 10 reads:   99.88%', 'Amplicons with at least 20 reads:   99.88%', 'Amplicons with at least 50 reads:   99.15%', 'Amplicons with at least 100 reads:  98.67%', 'Amplicons with at least 200 reads:  98.55%', 'Amplicons with at least 500 reads:  96.62%', 'Amplicons with at least 1000 reads: 89.86%']\n",
      "['Average reads per amplicon:         46250', 'Uniformity of amplicon coverage:    95.12%', 'Amplicons with at least 1 read: 100.00%', 'Amplicons with at least 1 reads:    100.00%', 'Amplicons with at least 10 reads:   100.00%', 'Amplicons with at least 20 reads:   100.00%', 'Amplicons with at least 50 reads:   100.00%', 'Amplicons with at least 100 reads:  100.00%', 'Amplicons with at least 200 reads:  100.00%', 'Amplicons with at least 500 reads:  100.00%', 'Amplicons with at least 1000 reads: 100.00%']\n",
      "['Average reads per amplicon:         10519', 'Uniformity of amplicon coverage:    95.61%', 'Amplicons with at least 1 read: 100.00%', 'Amplicons with at least 1 reads:    100.00%', 'Amplicons with at least 10 reads:   100.00%', 'Amplicons with at least 20 reads:   100.00%', 'Amplicons with at least 50 reads:   100.00%', 'Amplicons with at least 100 reads:  100.00%', 'Amplicons with at least 200 reads:  100.00%', 'Amplicons with at least 500 reads:  99.37%', 'Amplicons with at least 1000 reads: 98.75%']\n",
      "['Average reads per amplicon:         3229', 'Uniformity of amplicon coverage:    96.84%', 'Amplicons with at least 1 read: 100.00%', 'Amplicons with at least 1 reads:    100.00%', 'Amplicons with at least 10 reads:   99.71%', 'Amplicons with at least 20 reads:   99.71%', 'Amplicons with at least 50 reads:   99.71%', 'Amplicons with at least 100 reads:  99.43%', 'Amplicons with at least 200 reads:  98.56%', 'Amplicons with at least 500 reads:  97.70%', 'Amplicons with at least 1000 reads: 92.82%']\n",
      "['Average reads per amplicon:         0.222', 'Uniformity of amplicon coverage:    95.77%', 'Amplicons with at least 1 read: 4.83%', 'Amplicons with at least 1 reads:    4.83%', 'Amplicons with at least 10 reads:   0.48%', 'Amplicons with at least 20 reads:   0.48%', 'Amplicons with at least 50 reads:   0.00%', 'Amplicons with at least 100 reads:  0.00%', 'Amplicons with at least 200 reads:  0.00%', 'Amplicons with at least 500 reads:  0.00%', 'Amplicons with at least 1000 reads: 0.00%']\n",
      "['Average reads per amplicon:         1239', 'Uniformity of amplicon coverage:    91.95%', 'Amplicons with at least 1 read: 99.83%', 'Amplicons with at least 1 reads:    99.83%', 'Amplicons with at least 10 reads:   99.14%', 'Amplicons with at least 20 reads:   98.74%', 'Amplicons with at least 50 reads:   97.80%', 'Amplicons with at least 100 reads:  96.60%', 'Amplicons with at least 200 reads:  93.65%', 'Amplicons with at least 500 reads:  80.63%', 'Amplicons with at least 1000 reads: 53.59%']\n",
      "['Average reads per amplicon:         1355', 'Uniformity of amplicon coverage:    93.38%', 'Amplicons with at least 1 read: 99.83%', 'Amplicons with at least 1 reads:    99.83%', 'Amplicons with at least 10 reads:   99.21%', 'Amplicons with at least 20 reads:   98.90%', 'Amplicons with at least 50 reads:   98.09%', 'Amplicons with at least 100 reads:  97.16%', 'Amplicons with at least 200 reads:  95.14%', 'Amplicons with at least 500 reads:  85.19%', 'Amplicons with at least 1000 reads: 61.26%']\n",
      "['Average reads per amplicon:         1311', 'Uniformity of amplicon coverage:    92.81%', 'Amplicons with at least 1 read: 99.82%', 'Amplicons with at least 1 reads:    99.82%', 'Amplicons with at least 10 reads:   99.18%', 'Amplicons with at least 20 reads:   98.82%', 'Amplicons with at least 50 reads:   97.92%', 'Amplicons with at least 100 reads:  96.76%', 'Amplicons with at least 200 reads:  94.53%', 'Amplicons with at least 500 reads:  83.86%', 'Amplicons with at least 1000 reads: 59.55%']\n",
      "['Average reads per amplicon:         1100', 'Uniformity of amplicon coverage:    93.19%', 'Amplicons with at least 1 read: 99.83%', 'Amplicons with at least 1 reads:    99.83%', 'Amplicons with at least 10 reads:   99.16%', 'Amplicons with at least 20 reads:   98.84%', 'Amplicons with at least 50 reads:   97.81%', 'Amplicons with at least 100 reads:  96.66%', 'Amplicons with at least 200 reads:  93.93%', 'Amplicons with at least 500 reads:  80.06%', 'Amplicons with at least 1000 reads: 50.31%']\n"
     ]
    }
   ],
   "source": [
    "files = os.listdir('C:\\\\Users\\\\yijiun0407\\\\Downloads\\\\python101_demo_data\\\\python101_demo_data\\\\data_wo_sudir')\n",
    "TXT=[]\n",
    "for file in files:\n",
    "    if file.endswith('.txt'):\n",
    "        TXT.append(_)\n",
    "        file_path ='C:\\\\Users\\\\yijiun0407\\\\Downloads\\\\python101_demo_data\\\\python101_demo_data\\\\data_wo_sudir\\\\'+file\n",
    "        with open(file_path) as txt1:\n",
    "            print(txt1.read().splitlines()[14:25])#15-25行"
   ]
  },
  {
   "cell_type": "code",
   "execution_count": 92,
   "metadata": {},
   "outputs": [
    {
     "name": "stdout",
     "output_type": "stream",
     "text": [
      "C:/Users/yijiun0407/Downloads/python101_demo_data/python101_demo_data/data_with_subdir/CNV\\Proton_A_816_20181115\\Proton_A_816_20181115_IonXpress_007.stats.cov.txt\n",
      "C:/Users/yijiun0407/Downloads/python101_demo_data/python101_demo_data/data_with_subdir/CNV\\Proton_A_816_20181115\\Proton_A_816_20181115_IonXpress_009.stats.cov.txt\n",
      "C:/Users/yijiun0407/Downloads/python101_demo_data/python101_demo_data/data_with_subdir/CNV\\Proton_A_816_20181115\\Proton_A_816_20181115_IonXpress_010.stats.cov.txt\n",
      "C:/Users/yijiun0407/Downloads/python101_demo_data/python101_demo_data/data_with_subdir/CNV\\Proton_A_816_20181115\\Proton_A_816_20181115_IonXpress_011.stats.cov.txt\n",
      "C:/Users/yijiun0407/Downloads/python101_demo_data/python101_demo_data/data_with_subdir/CNV\\Proton_A_816_20181115\\Proton_A_816_20181115_IonXpress_012.stats.cov.txt\n",
      "C:/Users/yijiun0407/Downloads/python101_demo_data/python101_demo_data/data_with_subdir/CNV\\Proton_A_816_20181115\\Proton_A_816_20181115_IonXpress_013.stats.cov.txt\n",
      "C:/Users/yijiun0407/Downloads/python101_demo_data/python101_demo_data/data_with_subdir/CNV\\Proton_A_816_20181115\\Proton_A_816_20181115_IonXpress_014.stats.cov.txt\n",
      "C:/Users/yijiun0407/Downloads/python101_demo_data/python101_demo_data/data_with_subdir/CNV\\Proton_A_816_20181115\\Proton_A_816_20181115_IonXpress_036.stats.cov.txt\n",
      "C:/Users/yijiun0407/Downloads/python101_demo_data/python101_demo_data/data_with_subdir/CNV\\Proton_A_816_20181115\\Proton_A_816_20181115_IonXpress_037.stats.cov.txt\n",
      "C:/Users/yijiun0407/Downloads/python101_demo_data/python101_demo_data/data_with_subdir/CNV\\Proton_A_858_20181228\\Proton_A_858_20181228_IonXpress_080.stats.cov.txt\n",
      "C:/Users/yijiun0407/Downloads/python101_demo_data/python101_demo_data/data_with_subdir/CNV\\Proton_A_858_20181228\\Proton_A_858_20181228_IonXpress_081.stats.cov.txt\n",
      "C:/Users/yijiun0407/Downloads/python101_demo_data/python101_demo_data/data_with_subdir/CNV\\Proton_A_858_20181228\\Proton_A_858_20181228_IonXpress_082.stats.cov.txt\n",
      "C:/Users/yijiun0407/Downloads/python101_demo_data/python101_demo_data/data_with_subdir/CNV\\Proton_A_858_20181228\\Proton_A_858_20181228_IonXpress_083.stats.cov.txt\n",
      "C:/Users/yijiun0407/Downloads/python101_demo_data/python101_demo_data/data_with_subdir/CNV\\Proton_A_884_20190315\\Proton_A_884_20190315_IonXpress_074.stats.cov.txt\n",
      "C:/Users/yijiun0407/Downloads/python101_demo_data/python101_demo_data/data_with_subdir/CNV\\Proton_A_884_20190315\\Proton_A_884_20190315_IonXpress_075.stats.cov.txt\n",
      "C:/Users/yijiun0407/Downloads/python101_demo_data/python101_demo_data/data_with_subdir/CNV\\Proton_A_884_20190315\\Proton_A_884_20190315_IonXpress_076.stats.cov.txt\n"
     ]
    }
   ],
   "source": [
    "folder= 'C:/Users/yijiun0407/Downloads/python101_demo_data/python101_demo_data/data_with_subdir/'\n",
    "for root,subdirs, files in os.walk(folder):\n",
    "    for file in files:\n",
    "        if file.endswith('txt'):\n",
    "            with open(os.path.join(root,file),'r') as rf:\n",
    "                print(os.path.join(root,file))\n",
    "                \n",
    "                "
   ]
  },
  {
   "cell_type": "code",
   "execution_count": 93,
   "metadata": {},
   "outputs": [],
   "source": [
    "#writing file"
   ]
  },
  {
   "cell_type": "code",
   "execution_count": 97,
   "metadata": {},
   "outputs": [],
   "source": [
    "wf=open('demo_write.txt','w')\n",
    "wf.write('i am happy\\n')\n",
    "wf.close()"
   ]
  },
  {
   "cell_type": "code",
   "execution_count": 98,
   "metadata": {},
   "outputs": [],
   "source": [
    "wf=open('demo_write.txt','a')\n",
    "wf.write('you are happy too')\n",
    "wf.close()"
   ]
  },
  {
   "cell_type": "code",
   "execution_count": 99,
   "metadata": {},
   "outputs": [],
   "source": [
    "with open ('demo_write.txt','w') as wf:\n",
    "    wf.write('writing using with function')"
   ]
  },
  {
   "cell_type": "code",
   "execution_count": 100,
   "metadata": {},
   "outputs": [],
   "source": [
    "with open ('demo_write.txt','a') as wf:\n",
    "    wf.write('\\nactgenomics')"
   ]
  },
  {
   "cell_type": "code",
   "execution_count": null,
   "metadata": {},
   "outputs": [],
   "source": []
  }
 ],
 "metadata": {
  "kernelspec": {
   "display_name": "Python 3",
   "language": "python",
   "name": "python3"
  },
  "language_info": {
   "codemirror_mode": {
    "name": "ipython",
    "version": 3
   },
   "file_extension": ".py",
   "mimetype": "text/x-python",
   "name": "python",
   "nbconvert_exporter": "python",
   "pygments_lexer": "ipython3",
   "version": "3.7.1"
  }
 },
 "nbformat": 4,
 "nbformat_minor": 2
}
