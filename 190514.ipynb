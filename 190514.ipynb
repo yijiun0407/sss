{
 "cells": [
  {
   "cell_type": "code",
   "execution_count": 2,
   "metadata": {},
   "outputs": [],
   "source": [
    "# 190514"
   ]
  },
  {
   "cell_type": "code",
   "execution_count": 3,
   "metadata": {},
   "outputs": [],
   "source": [
    "# function review"
   ]
  },
  {
   "cell_type": "code",
   "execution_count": 4,
   "metadata": {},
   "outputs": [],
   "source": [
    "def len_of_string(*args):\n",
    "    if args:\n",
    "        for i in args:\n",
    "            print(i, len(i))"
   ]
  },
  {
   "cell_type": "code",
   "execution_count": 10,
   "metadata": {},
   "outputs": [],
   "source": [
    "# open close read write file"
   ]
  },
  {
   "cell_type": "code",
   "execution_count": 11,
   "metadata": {},
   "outputs": [],
   "source": [
    "import os"
   ]
  },
  {
   "cell_type": "code",
   "execution_count": 13,
   "metadata": {},
   "outputs": [
    {
     "data": {
      "text/plain": [
       "['.git',\n",
       " '.ipynb_checkpoints',\n",
       " '190507.ipynb',\n",
       " '20190402_python101_note.md',\n",
       " '20190402_python101_note.py',\n",
       " '20190409_note.ipynb',\n",
       " '20190416.ipynb',\n",
       " '20190430-1.ipynb',\n",
       " '20190430.ipynb',\n",
       " 'b_testing.py',\n",
       " 'demo1.ipynb',\n",
       " 'demo2.ipynb',\n",
       " 'help.py',\n",
       " 'index.md',\n",
       " 'LICENSE',\n",
       " 'project1.ipynb',\n",
       " 'python101_0326.md',\n",
       " 'python_code.py',\n",
       " 'README.md',\n",
       " 'Untitled.ipynb',\n",
       " 'Untitled1.ipynb',\n",
       " 'Untitled2.ipynb',\n",
       " '__pycache__']"
      ]
     },
     "execution_count": 13,
     "metadata": {},
     "output_type": "execute_result"
    }
   ],
   "source": [
    "os.listdir()"
   ]
  },
  {
   "cell_type": "code",
   "execution_count": 16,
   "metadata": {},
   "outputs": [
    {
     "name": "stdout",
     "output_type": "stream",
     "text": [
      "<class 'list'>\n"
     ]
    }
   ],
   "source": [
    "print(type(os.listdir()))"
   ]
  },
  {
   "cell_type": "code",
   "execution_count": 18,
   "metadata": {},
   "outputs": [
    {
     "data": {
      "text/plain": [
       "['Default.rdp',\n",
       " 'desktop.ini',\n",
       " 'FeedbackHub',\n",
       " 'GitHub',\n",
       " 'My Music',\n",
       " 'My Pictures',\n",
       " 'My Videos',\n",
       " 'OneNote 筆記本',\n",
       " 'Python Scripts',\n",
       " '自訂 Office 範本']"
      ]
     },
     "execution_count": 18,
     "metadata": {},
     "output_type": "execute_result"
    }
   ],
   "source": [
    "os.listdir('C:\\\\Users\\\\yijiun0407\\\\Documents')"
   ]
  },
  {
   "cell_type": "code",
   "execution_count": 20,
   "metadata": {},
   "outputs": [
    {
     "data": {
      "text/plain": [
       "['.git',\n",
       " '.ipynb_checkpoints',\n",
       " '190507.ipynb',\n",
       " '20190402_python101_note.md',\n",
       " '20190402_python101_note.py',\n",
       " '20190409_note.ipynb',\n",
       " '20190416.ipynb',\n",
       " '20190430-1.ipynb',\n",
       " '20190430.ipynb',\n",
       " 'b_testing.py',\n",
       " 'demo1.ipynb',\n",
       " 'demo2.ipynb',\n",
       " 'help.py',\n",
       " 'index.md',\n",
       " 'LICENSE',\n",
       " 'project1.ipynb',\n",
       " 'python101_0326.md',\n",
       " 'python_code.py',\n",
       " 'README.md',\n",
       " 'Untitled.ipynb',\n",
       " 'Untitled1.ipynb',\n",
       " 'Untitled2.ipynb',\n",
       " '__pycache__']"
      ]
     },
     "execution_count": 20,
     "metadata": {},
     "output_type": "execute_result"
    }
   ],
   "source": [
    "os.listdir()"
   ]
  },
  {
   "cell_type": "code",
   "execution_count": null,
   "metadata": {},
   "outputs": [],
   "source": []
  },
  {
   "cell_type": "code",
   "execution_count": 33,
   "metadata": {},
   "outputs": [
    {
     "name": "stdout",
     "output_type": "stream",
     "text": [
      "['def add(i,j,k):\\n', '    return(i+j+k)\\n', 'def substract(i,j,k):\\n', '    return(i-j-k)\\n', 'def multiply(i,j,k):\\n', '    return(i*j*k)\\n', 'def divid(i,j,k):\\n', '    return(i/j/k)']\n"
     ]
    }
   ],
   "source": [
    "for file in os.listdir():\n",
    "    if 'help.py'==file:\n",
    "        open_file=open(file)\n",
    "        #print(open_file)\n",
    "        #print(type(open_file.read()))\n",
    "        #print('*'*60)\n",
    "        (open_file.readlines())"
   ]
  },
  {
   "cell_type": "code",
   "execution_count": null,
   "metadata": {},
   "outputs": [],
   "source": []
  },
  {
   "cell_type": "code",
   "execution_count": 36,
   "metadata": {},
   "outputs": [
    {
     "name": "stdout",
     "output_type": "stream",
     "text": [
      "['def add(i,j,k):', '    return(i+j+k)', 'def substract(i,j,k):', '    return(i-j-k)', 'def multiply(i,j,k):', '    return(i*j*k)', 'def divid(i,j,k):', '    return(i/j/k)']\n"
     ]
    }
   ],
   "source": [
    "new_content=[]\n",
    "for file in os.listdir():\n",
    "    if 'help.py'==file:\n",
    "        open_file=open(file)\n",
    "        #print(open_file)\n",
    "        #print(type(open_file.read()))\n",
    "        #print('*'*60)\n",
    "        reading=(open_file.readlines())\n",
    "        for _ in reading:\n",
    "            new_content.append(_.replace('\\n',''))\n",
    "        print(new_content)"
   ]
  },
  {
   "cell_type": "code",
   "execution_count": 37,
   "metadata": {},
   "outputs": [
    {
     "name": "stdout",
     "output_type": "stream",
     "text": [
      "['def add(i,j,k):', '    return(i+j+k)', 'def substract(i,j,k):', '    return(i-j-k)', 'def multiply(i,j,k):', '    return(i*j*k)', 'def divid(i,j,k):', '    return(i/j/k)']\n"
     ]
    }
   ],
   "source": [
    "for file in os.listdir():\n",
    "    if 'help.py'==file:\n",
    "        open_file=open(file)\n",
    "        reading = open_file.read().splitlines()\n",
    "        print(reading)\n",
    "        break"
   ]
  },
  {
   "cell_type": "code",
   "execution_count": 42,
   "metadata": {},
   "outputs": [
    {
     "name": "stdout",
     "output_type": "stream",
     "text": [
      "['def add(i,j,k):', '    return(i+j+k)', 'def substract(i,j,k):', '    return(i-j-k)', 'def multiply(i,j,k):', '    return(i*j*k)', 'def divid(i,j,k):', '    return(i/j/k)']\n",
      "[]\n"
     ]
    }
   ],
   "source": [
    "for file in os.listdir():\n",
    "    if 'help.py'==file:\n",
    "        open_file=open(file)\n",
    "        reading1 = open_file.read().splitlines()\n",
    "        #open_file.close\n",
    "        #open_file=open(file)\n",
    "        reading2 = open_file.read().splitlines()\n",
    "        print(reading1)\n",
    "        print(reading2)"
   ]
  },
  {
   "cell_type": "code",
   "execution_count": 46,
   "metadata": {},
   "outputs": [
    {
     "name": "stdout",
     "output_type": "stream",
     "text": [
      "<_io.TextIOWrapper name='help.py' mode='r' encoding='cp950'>\n",
      "['def add(i,j,k):', '    return(i+j+k)', 'def substract(i,j,k):', '    return(i-j-k)', 'def multiply(i,j,k):', '    return(i*j*k)', 'def divid(i,j,k):', '    return(i/j/k)']\n",
      "<_io.TextIOWrapper name='help.py' mode='r' encoding='cp950'>\n",
      "['def add(i,j,k):', '    return(i+j+k)', 'def substract(i,j,k):', '    return(i-j-k)', 'def multiply(i,j,k):', '    return(i*j*k)', 'def divid(i,j,k):', '    return(i/j/k)']\n"
     ]
    }
   ],
   "source": [
    "for file in os.listdir():\n",
    "    if 'help.py'==file:\n",
    "        with open(file) as rf1:\n",
    "            print(rf1)\n",
    "            print(rf1.read().splitlines())\n",
    "        with open(file) as rf1:\n",
    "            print(rf1)\n",
    "            print(rf1.read().splitlines())"
   ]
  },
  {
   "cell_type": "code",
   "execution_count": 47,
   "metadata": {},
   "outputs": [],
   "source": [
    "# open -->read  --> close\n",
    "# with open ...(auto close the file you file)"
   ]
  },
  {
   "cell_type": "code",
   "execution_count": null,
   "metadata": {},
   "outputs": [],
   "source": []
  },
  {
   "cell_type": "code",
   "execution_count": 86,
   "metadata": {},
   "outputs": [
    {
     "name": "stdout",
     "output_type": "stream",
     "text": [
      "['Proton_A_845_20181220_IonXpress_037.stats.cov.txt', 'Proton_A_845_20181220_IonXpress_037.stats.cov.txt', 'Proton_A_845_20181220_IonXpress_037.stats.cov.txt', 'Proton_A_845_20181220_IonXpress_037.stats.cov.txt', 'Proton_A_845_20181220_IonXpress_037.stats.cov.txt', 'Proton_A_845_20181220_IonXpress_037.stats.cov.txt', 'Proton_A_845_20181220_IonXpress_037.stats.cov.txt', 'Proton_A_845_20181220_IonXpress_037.stats.cov.txt', 'Proton_A_845_20181220_IonXpress_037.stats.cov.txt', 'Proton_A_845_20181220_IonXpress_037.stats.cov.txt', 'Proton_A_845_20181220_IonXpress_037.stats.cov.txt', 'Proton_A_845_20181220_IonXpress_037.stats.cov.txt', 'Proton_A_845_20181220_IonXpress_037.stats.cov.txt', 'Proton_A_845_20181220_IonXpress_037.stats.cov.txt', 'Proton_A_845_20181220_IonXpress_037.stats.cov.txt']\n",
      "['Coverage Analysis Report', '', 'Sample Name: F00535_D1', 'Reference Genome: hg19', 'Target Regions: 4Pool_ONCOv2_Designed_plus_PGx_20170704']\n",
      "['Coverage Analysis Report', '', 'Sample Name: F00535_D1', 'Reference Genome: hg19', 'Target Regions: 4Pool_ONCOv2_Designed_plus_PGx_20170704']\n",
      "['Coverage Analysis Report', '', 'Sample Name: F00535_D1', 'Reference Genome: hg19', 'Target Regions: 4Pool_ONCOv2_Designed_plus_PGx_20170704']\n",
      "['Coverage Analysis Report', '', 'Sample Name: F00535_D1', 'Reference Genome: hg19', 'Target Regions: 4Pool_ONCOv2_Designed_plus_PGx_20170704']\n",
      "['Coverage Analysis Report', '', 'Sample Name: F00535_D1', 'Reference Genome: hg19', 'Target Regions: 4Pool_ONCOv2_Designed_plus_PGx_20170704']\n",
      "['Coverage Analysis Report', '', 'Sample Name: F00535_D1', 'Reference Genome: hg19', 'Target Regions: 4Pool_ONCOv2_Designed_plus_PGx_20170704']\n",
      "['Coverage Analysis Report', '', 'Sample Name: F00535_D1', 'Reference Genome: hg19', 'Target Regions: 4Pool_ONCOv2_Designed_plus_PGx_20170704']\n",
      "['Coverage Analysis Report', '', 'Sample Name: F00535_D1', 'Reference Genome: hg19', 'Target Regions: 4Pool_ONCOv2_Designed_plus_PGx_20170704']\n",
      "['Coverage Analysis Report', '', 'Sample Name: F00535_D1', 'Reference Genome: hg19', 'Target Regions: 4Pool_ONCOv2_Designed_plus_PGx_20170704']\n",
      "['Coverage Analysis Report', '', 'Sample Name: F00535_D1', 'Reference Genome: hg19', 'Target Regions: 4Pool_ONCOv2_Designed_plus_PGx_20170704']\n",
      "['Coverage Analysis Report', '', 'Sample Name: F00535_D1', 'Reference Genome: hg19', 'Target Regions: 4Pool_ONCOv2_Designed_plus_PGx_20170704']\n",
      "['Coverage Analysis Report', '', 'Sample Name: F00535_D1', 'Reference Genome: hg19', 'Target Regions: 4Pool_ONCOv2_Designed_plus_PGx_20170704']\n",
      "['Coverage Analysis Report', '', 'Sample Name: F00535_D1', 'Reference Genome: hg19', 'Target Regions: 4Pool_ONCOv2_Designed_plus_PGx_20170704']\n",
      "['Coverage Analysis Report', '', 'Sample Name: F00535_D1', 'Reference Genome: hg19', 'Target Regions: 4Pool_ONCOv2_Designed_plus_PGx_20170704']\n",
      "['Coverage Analysis Report', '', 'Sample Name: F00535_D1', 'Reference Genome: hg19', 'Target Regions: 4Pool_ONCOv2_Designed_plus_PGx_20170704']\n"
     ]
    }
   ],
   "source": [
    "files = os.listdir('C:\\\\Users\\\\yijiun0407\\\\Downloads\\\\python101_demo_data\\\\python101_demo_data\\\\data_wo_sudir')\n",
    "TXT=[]\n",
    "for file in files:\n",
    "    if file.endswith('.txt'):\n",
    "        TXT.append(_)\n",
    "        file_path ='C:\\\\Users\\\\yijiun0407\\\\Downloads\\\\python101_demo_data\\\\python101_demo_data\\\\data_wo_sudir\\\\'+file\n",
    "print(TXT)\n",
    "for file in TXT:\n",
    "    with open(file_path) as txt1:\n",
    "        print(txt1.read().splitlines()[0:5])"
   ]
  },
  {
   "cell_type": "code",
   "execution_count": 87,
   "metadata": {},
   "outputs": [
    {
     "name": "stdout",
     "output_type": "stream",
     "text": [
      "C:\\Users\\yijiun0407\\Downloads\\python101_demo_data\\python101_demo_data\\data_wo_sudir [] ['Proton_A_845_20181220_IonXpress_037.amplicon.cov.xls', 'Proton_A_845_20181220_IonXpress_037.base.cov.xls', 'Proton_A_845_20181220_IonXpress_037.stats.cov.txt', 'Proton_A_845_20181220_IonXpress_038.amplicon.cov.xls', 'Proton_A_845_20181220_IonXpress_038.base.cov.xls', 'Proton_A_845_20181220_IonXpress_038.stats.cov.txt', 'Proton_A_845_20181220_IonXpress_039.amplicon.cov.xls', 'Proton_A_845_20181220_IonXpress_039.base.cov.xls', 'Proton_A_845_20181220_IonXpress_039.stats.cov.txt', 'Proton_A_845_20181220_IonXpress_040.amplicon.cov.xls', 'Proton_A_845_20181220_IonXpress_040.base.cov.xls', 'Proton_A_845_20181220_IonXpress_040.stats.cov.txt', 'Proton_A_868_20190125_IonXpress_001_TSVC_variants.vcf', 'Proton_A_868_20190125_IonXpress_002_TSVC_variants.vcf', 'Proton_A_868_20190125_IonXpress_003_TSVC_variants.vcf', 'Proton_A_868_20190125_IonXpress_059_TSVC_variants.vcf', 'Proton_A_868_20190125_IonXpress_060_TSVC_variants.vcf', 'Proton_A_868_20190125_IonXpress_062_TSVC_variants.vcf', 'Proton_A_868_20190125_IonXpress_063_TSVC_variants.vcf', 'Proton_A_868_20190125_IonXpress_064_TSVC_variants.vcf', 'Proton_A_868_20190125_IonXpress_065_TSVC_variants.vcf', 'Proton_A_868_20190125_IonXpress_066_TSVC_variants.vcf', 'Proton_A_868_20190125_IonXpress_090_TSVC_variants.vcf', 'Proton_A_868_20190125_IonXpress_093_TSVC_variants.vcf', 'Proton_A_868_20190125_IonXpress_094_TSVC_variants.vcf', 'Proton_A_868_20190125_IonXpress_095_TSVC_variants.vcf', 'Proton_A_868_20190125_IonXpress_096_TSVC_variants.vcf', 'Proton_A_878_20190305_IonXpress_071.amplicon.cov.xls', 'Proton_A_878_20190305_IonXpress_071.base.cov.xls', 'Proton_A_878_20190305_IonXpress_071.stats.cov.txt', 'Proton_A_878_20190305_IonXpress_072.amplicon.cov.xls', 'Proton_A_878_20190305_IonXpress_072.base.cov.xls', 'Proton_A_878_20190305_IonXpress_072.stats.cov.txt', 'Proton_A_878_20190305_IonXpress_073.amplicon.cov.xls', 'Proton_A_878_20190305_IonXpress_073.base.cov.xls', 'Proton_A_878_20190305_IonXpress_073.stats.cov.txt', 'Proton_A_878_20190305_IonXpress_074.amplicon.cov.xls', 'Proton_A_878_20190305_IonXpress_074.base.cov.xls', 'Proton_A_878_20190305_IonXpress_074.stats.cov.txt', 'Proton_A_878_20190305_IonXpress_075.amplicon.cov.xls', 'Proton_A_878_20190305_IonXpress_075.base.cov.xls', 'Proton_A_878_20190305_IonXpress_075.stats.cov.txt', 'Proton_A_878_20190305_IonXpress_076.amplicon.cov.xls', 'Proton_A_878_20190305_IonXpress_076.base.cov.xls', 'Proton_A_878_20190305_IonXpress_076.stats.cov.txt', 'Proton_A_878_20190305_IonXpress_077.amplicon.cov.xls', 'Proton_A_878_20190305_IonXpress_077.base.cov.xls', 'Proton_A_878_20190305_IonXpress_077.stats.cov.txt', 'Proton_A_890_20190328_IonXpress_062.amplicon.cov.xls', 'Proton_A_890_20190328_IonXpress_062.base.cov.xls', 'Proton_A_890_20190328_IonXpress_062.stats.cov.txt', 'Proton_A_890_20190328_IonXpress_063.amplicon.cov.xls', 'Proton_A_890_20190328_IonXpress_063.base.cov.xls', 'Proton_A_890_20190328_IonXpress_063.stats.cov.txt', 'Proton_A_890_20190328_IonXpress_065.amplicon.cov.xls', 'Proton_A_890_20190328_IonXpress_065.base.cov.xls', 'Proton_A_890_20190328_IonXpress_065.stats.cov.txt', 'Proton_A_890_20190328_IonXpress_066.amplicon.cov.xls', 'Proton_A_890_20190328_IonXpress_066.base.cov.xls', 'Proton_A_890_20190328_IonXpress_066.stats.cov.txt', 'Proton_A_891_20190402_IonXpress_067_TSVC_variants.vcf', 'Proton_A_891_20190402_IonXpress_068_TSVC_variants.vcf', 'Proton_A_891_20190402_IonXpress_070_TSVC_variants.vcf', 'Proton_A_891_20190402_IonXpress_071_TSVC_variants.vcf']\n"
     ]
    }
   ],
   "source": [
    "for root, subdirs, files in os.walk('C:\\\\Users\\\\yijiun0407\\\\Downloads\\\\python101_demo_data\\\\python101_demo_data\\\\data_wo_sudir'):\n",
    "    print(root,subdirs,files)"
   ]
  },
  {
   "cell_type": "code",
   "execution_count": 85,
   "metadata": {},
   "outputs": [
    {
     "name": "stdout",
     "output_type": "stream",
     "text": [
      "C:\\Users\\yijiun0407\\Downloads\\python101_demo_data\\python101_demo_data\\data_wo_sudir\\Proton_A_845_20181220_IonXpress_037.stats.cov.txt\n",
      "C:\\Users\\yijiun0407\\Downloads\\python101_demo_data\\python101_demo_data\\data_wo_sudir\\Proton_A_845_20181220_IonXpress_038.stats.cov.txt\n",
      "C:\\Users\\yijiun0407\\Downloads\\python101_demo_data\\python101_demo_data\\data_wo_sudir\\Proton_A_845_20181220_IonXpress_039.stats.cov.txt\n",
      "C:\\Users\\yijiun0407\\Downloads\\python101_demo_data\\python101_demo_data\\data_wo_sudir\\Proton_A_845_20181220_IonXpress_040.stats.cov.txt\n",
      "C:\\Users\\yijiun0407\\Downloads\\python101_demo_data\\python101_demo_data\\data_wo_sudir\\Proton_A_878_20190305_IonXpress_071.stats.cov.txt\n",
      "C:\\Users\\yijiun0407\\Downloads\\python101_demo_data\\python101_demo_data\\data_wo_sudir\\Proton_A_878_20190305_IonXpress_072.stats.cov.txt\n",
      "C:\\Users\\yijiun0407\\Downloads\\python101_demo_data\\python101_demo_data\\data_wo_sudir\\Proton_A_878_20190305_IonXpress_073.stats.cov.txt\n",
      "C:\\Users\\yijiun0407\\Downloads\\python101_demo_data\\python101_demo_data\\data_wo_sudir\\Proton_A_878_20190305_IonXpress_074.stats.cov.txt\n",
      "C:\\Users\\yijiun0407\\Downloads\\python101_demo_data\\python101_demo_data\\data_wo_sudir\\Proton_A_878_20190305_IonXpress_075.stats.cov.txt\n",
      "C:\\Users\\yijiun0407\\Downloads\\python101_demo_data\\python101_demo_data\\data_wo_sudir\\Proton_A_878_20190305_IonXpress_076.stats.cov.txt\n",
      "C:\\Users\\yijiun0407\\Downloads\\python101_demo_data\\python101_demo_data\\data_wo_sudir\\Proton_A_878_20190305_IonXpress_077.stats.cov.txt\n",
      "C:\\Users\\yijiun0407\\Downloads\\python101_demo_data\\python101_demo_data\\data_wo_sudir\\Proton_A_890_20190328_IonXpress_062.stats.cov.txt\n",
      "C:\\Users\\yijiun0407\\Downloads\\python101_demo_data\\python101_demo_data\\data_wo_sudir\\Proton_A_890_20190328_IonXpress_063.stats.cov.txt\n",
      "C:\\Users\\yijiun0407\\Downloads\\python101_demo_data\\python101_demo_data\\data_wo_sudir\\Proton_A_890_20190328_IonXpress_065.stats.cov.txt\n",
      "C:\\Users\\yijiun0407\\Downloads\\python101_demo_data\\python101_demo_data\\data_wo_sudir\\Proton_A_890_20190328_IonXpress_066.stats.cov.txt\n"
     ]
    }
   ],
   "source": [
    "for root, subdirs, files in os.walk('C:\\\\Users\\\\yijiun0407\\\\Downloads\\\\python101_demo_data\\\\python101_demo_data\\\\data_wo_sudir'):\n",
    "    for file in files:\n",
    "        if file.endswith('txt'):\n",
    "            print(os.path.join(root,file))"
   ]
  },
  {
   "cell_type": "code",
   "execution_count": 88,
   "metadata": {},
   "outputs": [
    {
     "name": "stdout",
     "output_type": "stream",
     "text": [
      "['Coverage Analysis Report', '', 'Sample Name: E02140_D1', 'Reference Genome: hg19', 'Target Regions: 4Pool_ONCOv2_Designed_plus_PGx_20170704']\n",
      "['Coverage Analysis Report', '', 'Sample Name: E02148_D1', 'Reference Genome: hg19', 'Target Regions: 4Pool_ONCOv2_Designed_plus_PGx_20170704']\n",
      "['Coverage Analysis Report', '', 'Sample Name: E02162_D1', 'Reference Genome: hg19', 'Target Regions: 4Pool_ONCOv2_Designed_plus_PGx_20170704']\n",
      "['Coverage Analysis Report', '', 'Sample Name: E02163_D1', 'Reference Genome: hg19', 'Target Regions: 4Pool_ONCOv2_Designed_plus_PGx_20170704']\n",
      "['Coverage Analysis Report', '', 'Sample Name: F00369_D1', 'Reference Genome: hg19', 'Target Regions: Onco2M7_Designed_20180402']\n",
      "['Coverage Analysis Report', '', 'Sample Name: F00371_D1', 'Reference Genome: hg19', 'Target Regions: Onco2M7_Designed_20180402']\n",
      "['Coverage Analysis Report', '', 'Sample Name: F00365_D1', 'Reference Genome: hg19', 'Target Regions: PA013_ACTRisk_IAD93167_182_Designed']\n",
      "['Coverage Analysis Report', '', 'Sample Name: F00374_D1', 'Reference Genome: hg19', 'Target Regions: PA015_MoniLungv2_IAD124247_231_Designed_addMET']\n",
      "['Coverage Analysis Report', '', 'Sample Name: F00373_D1', 'Reference Genome: hg19', 'Target Regions: ACTBRCA_ACTBRCAv2_PA026_20180425']\n",
      "['Coverage Analysis Report', '', 'Sample Name: F00378_D1', 'Reference Genome: hg19', 'Target Regions: ACTDrugv4_PNID_PA027M1']\n",
      "['Coverage Analysis Report', '', 'Sample Name: F00378_R1', 'Reference Genome: hg19', 'Target Regions: CHP2.20131001.designed']\n",
      "['Coverage Analysis Report', '', 'Sample Name: F00532_D1', 'Reference Genome: hg19', 'Target Regions: 4Pool_ONCOv2_Designed_plus_PGx_20170704']\n",
      "['Coverage Analysis Report', '', 'Sample Name: F00533_D1', 'Reference Genome: hg19', 'Target Regions: 4Pool_ONCOv2_Designed_plus_PGx_20170704']\n",
      "['Coverage Analysis Report', '', 'Sample Name: F00534_D1', 'Reference Genome: hg19', 'Target Regions: 4Pool_ONCOv2_Designed_plus_PGx_20170704']\n",
      "['Coverage Analysis Report', '', 'Sample Name: F00535_D1', 'Reference Genome: hg19', 'Target Regions: 4Pool_ONCOv2_Designed_plus_PGx_20170704']\n"
     ]
    }
   ],
   "source": [
    "for root, subdirs, files in os.walk('C:\\\\Users\\\\yijiun0407\\\\Downloads\\\\python101_demo_data\\\\python101_demo_data\\\\data_wo_sudir'):\n",
    "    for file in files:\n",
    "        if file.endswith('txt'):\n",
    "            with open (os.path.join(root,file)) as rf:\n",
    "                print (rf.read().splitlines()[0:5])"
   ]
  },
  {
   "cell_type": "code",
   "execution_count": null,
   "metadata": {},
   "outputs": [],
   "source": []
  }
 ],
 "metadata": {
  "kernelspec": {
   "display_name": "Python 3",
   "language": "python",
   "name": "python3"
  },
  "language_info": {
   "codemirror_mode": {
    "name": "ipython",
    "version": 3
   },
   "file_extension": ".py",
   "mimetype": "text/x-python",
   "name": "python",
   "nbconvert_exporter": "python",
   "pygments_lexer": "ipython3",
   "version": "3.7.1"
  }
 },
 "nbformat": 4,
 "nbformat_minor": 2
}
